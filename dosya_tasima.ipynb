{
 "cells": [
  {
   "cell_type": "code",
   "execution_count": 1,
   "id": "f1c5183e",
   "metadata": {},
   "outputs": [
    {
     "name": "stdout",
     "output_type": "stream",
     "text": [
      "Klasörler:\n",
      "['daisy', 'dandelion', 'roses', 'sunflowers', 'tulips']\n"
     ]
    }
   ],
   "source": [
    "import os\n",
    "\n",
    "dizin_yolu = r\"C:\\Users\\VuralBayrakli\\datasets\\flower_photos\"\n",
    "\n",
    "# Dizindeki tüm dosyaları ve klasörleri listele\n",
    "dosya_listesi = os.listdir(dizin_yolu)\n",
    "\n",
    "# Sadece klasörleri filtrele\n",
    "klasorler = [dosya for dosya in dosya_listesi if os.path.isdir(os.path.join(dizin_yolu, dosya))]\n",
    "\n",
    "print(\"Klasörler:\")\n",
    "print(klasorler)\n"
   ]
  },
  {
   "cell_type": "code",
   "execution_count": null,
   "id": "bcc5842b",
   "metadata": {},
   "outputs": [],
   "source": [
    "import os\n",
    "import shutil\n",
    "import random\n",
    "\n",
    "# Kaynak ve hedef klasör yollarını tanımlayın\n",
    "kaynak_klasor = r\"C:\\Users\\VuralBayrakli\\datasets\\flower_photos\"\n",
    "hedef_klasor = r\"C:\\Users\\VuralBayrakli\\lwf\\flowers\"\n",
    "\n",
    "# Kaynak klasördeki tüm dosyaları listele\n",
    "dosya_listesi = os.listdir(kaynak_klasor)\n",
    "\n",
    "# Eğer kaynak klasörde 100'den az dosya varsa, mevcut dosya sayısını alın\n",
    "num_files_to_move = min(100, len(dosya_listesi))\n",
    "\n",
    "# Rasgele 100 dosyayı seçin\n",
    "rasgele_dosyalar = random.sample(dosya_listesi, num_files_to_move)\n",
    "\n",
    "# Seçilen dosyaları hedef klasöre taşı\n",
    "for dosya in rasgele_dosyalar:\n",
    "    dosya_yolu = os.path.join(kaynak_klasor, dosya)\n",
    "    hedef_dosya_yolu = os.path.join(hedef_klasor, dosya)\n",
    "    shutil.move(dosya_yolu, hedef_dosya_yolu)\n",
    "\n",
    "print(f\"{num_files_to_move} dosya başarıyla taşındı.\")\n"
   ]
  },
  {
   "cell_type": "code",
   "execution_count": 21,
   "id": "8b0bddcb",
   "metadata": {},
   "outputs": [],
   "source": [
    "import os\n",
    "import shutil\n",
    "import random\n",
    "kaynak_klasor = r\"C:\\Users\\VuralBayrakli\\datasets\\flower_photos\"\n",
    "hedef_klasor = r\"C:\\Users\\VuralBayrakli\\lwf\\flowers_train2\"\n",
    "for klasor in klasorler[1:]:\n",
    "    klasor_yolu = os.path.join(kaynak_klasor, klasor)\n",
    "    hedef_klasor_yolu = os.path.join(hedef_klasor, klasor)\n",
    "    if not os.path.isdir(hedef_klasor_yolu):\n",
    "        os.makedirs(hedef_klasor_yolu)\n",
    "    \n",
    "    dosya_listesi = os.listdir(klasor_yolu)\n",
    "    \n",
    "    num_files_to_move = min(100, len(dosya_listesi))\n",
    "\n",
    "    rasgele_dosyalar = random.sample(dosya_listesi, num_files_to_move)\n",
    "    \n",
    "    for dosya in rasgele_dosyalar:\n",
    "        dosya_yolu = os.path.join(klasor_yolu, dosya)\n",
    "        hedef_dosya_yolu = os.path.join(hedef_klasor_yolu, dosya)\n",
    "        shutil.move(dosya_yolu, hedef_dosya_yolu)"
   ]
  },
  {
   "cell_type": "code",
   "execution_count": 5,
   "id": "fa727df3",
   "metadata": {},
   "outputs": [
    {
     "data": {
      "text/plain": [
       "True"
      ]
     },
     "execution_count": 5,
     "metadata": {},
     "output_type": "execute_result"
    }
   ],
   "source": [
    "hedef_klasor = r\"C:\\Users\\VuralBayrakli\\lwf\\flowers\"\n",
    "kaynak_klasor = r\"C:\\Users\\VuralBayrakli\\datasets\\flower_photos\"\n",
    "hedef_dosya_yolu = os.path.join(kaynak_klasor, \"daisy\")\n",
    "os.path.isdir(hedef_dosya_yolu)"
   ]
  },
  {
   "cell_type": "code",
   "execution_count": 12,
   "id": "95e22374",
   "metadata": {},
   "outputs": [
    {
     "data": {
      "text/plain": [
       "['dandelion', 'roses', 'sunflowers', 'tulips']"
      ]
     },
     "execution_count": 12,
     "metadata": {},
     "output_type": "execute_result"
    }
   ],
   "source": [
    "klasorler[1:]"
   ]
  },
  {
   "cell_type": "code",
   "execution_count": null,
   "id": "b5929261",
   "metadata": {},
   "outputs": [],
   "source": []
  }
 ],
 "metadata": {
  "kernelspec": {
   "display_name": "Python 3 (ipykernel)",
   "language": "python",
   "name": "python3"
  },
  "language_info": {
   "codemirror_mode": {
    "name": "ipython",
    "version": 3
   },
   "file_extension": ".py",
   "mimetype": "text/x-python",
   "name": "python",
   "nbconvert_exporter": "python",
   "pygments_lexer": "ipython3",
   "version": "3.10.9"
  }
 },
 "nbformat": 4,
 "nbformat_minor": 5
}
