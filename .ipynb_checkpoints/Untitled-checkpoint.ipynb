{
 "cells": [
  {
   "cell_type": "markdown",
   "id": "01744251",
   "metadata": {},
   "source": [
    "### Kütüphanelerin import edilmesi"
   ]
  },
  {
   "cell_type": "code",
   "execution_count": null,
   "id": "3ee47fdb",
   "metadata": {},
   "outputs": [],
   "source": [
    "import torch\n",
    "import torch.nn as nn\n",
    "import torch.optim as optim\n",
    "import torch.nn.functional as F\n",
    "import torch.backends.cudnn as cudnn\n",
    "import scipy.io as scio\n",
    "from scipy.io import loadmat\n",
    "import torchvision\n",
    "import os\n",
    "import argparse\n",
    "import progress_bar\n",
    "import numpy as np\n",
    "import random\n",
    "import matplotlib.pyplot as plt\n",
    "import torchvision.transforms as transforms\n",
    "import pdb\n",
    "from torchvision.datasets import ImageFolder\n",
    "from torch.utils.data import DataLoader\n",
    "import torchvision.transforms as tfs\n",
    "import torchvision.datasets as datasets"
   ]
  },
  {
   "cell_type": "markdown",
   "id": "cb49bb92",
   "metadata": {},
   "source": [
    "### Kaiming Normal İnitialization Fonksiyonu"
   ]
  },
  {
   "cell_type": "code",
   "execution_count": 13,
   "id": "7a6e25c7",
   "metadata": {},
   "outputs": [],
   "source": [
    "# m değerine göre normal dağılıma sahip ağırlık değerleri ve nonlinearity değerleri oluşturur.\n",
    "def kaiming_normal_init(m):\n",
    "    if isinstance(m, nn.Conv2d):\n",
    "        nn.init.kaiming_normal_(m.weight, nonlinearity='relu')\n",
    "    elif isinstance(m, nn.Linear):\n",
    "        nn.init.kaiming_normal_(m.weight, nonlinearity='sigmoid')\n"
   ]
  },
  {
   "cell_type": "markdown",
   "id": "65fcdbaa",
   "metadata": {},
   "source": [
    "### Veri Hazırlığı ve Dönüşümleri"
   ]
  },
  {
   "cell_type": "code",
   "execution_count": 28,
   "id": "a83d22c1",
   "metadata": {},
   "outputs": [],
   "source": [
    "device = 'cuda' if torch.cuda.is_available() else 'cpu'\n",
    "best_acc = 0  # best test accuracy\n",
    "start_epoch = 1  # start from epoch 0 or last checkpoint epoch\n",
    "\n",
    "# New Data\n",
    "print('==> Preparing data..')\n",
    "train_transforms = transforms.Compose([\n",
    "        transforms.RandomResizedCrop(224),\n",
    "        transforms.RandomHorizontalFlip(),\n",
    "        transforms.ColorJitter(brightness=0.4, saturation=0.4, hue=0.4),\n",
    "        transforms.ToTensor(),\n",
    "        transforms.Normalize(\n",
    "            [0.48560741861744905, 0.49941626449353244, 0.43237713785804116],\n",
    "            [0.2321024260764962, 0.22770540015765814, 0.2665100547329813])\n",
    "    ])\n",
    "\n",
    "test_transforms = transforms.Compose([\n",
    "        transforms.CenterCrop(224),\n",
    "        transforms.ToTensor(),\n",
    "        transforms.Normalize(\n",
    "            [0.4862169586881995, 0.4998156522834164, 0.4311430419332438],\n",
    "            [0.23264268069040475, 0.22781080253662814, 0.26667253517177186])\n",
    "    ])\n",
    "\n",
    "train_dataset = ImageFolder(root=\"TRAIN\", transform=train_transforms)\n",
    "train_dataloader = DataLoader(train_dataset, batch_size=32, shuffle=True, num_workers=4)\n",
    "test_dataset = ImageFolder(root=\"TEST\", transform=test_transforms)\n",
    "test_dataloader = DataLoader(test_dataset, batch_size=8, shuffle= True, num_workers=4)\n"
   ]
  },
  {
   "cell_type": "markdown",
   "id": "3aa65d41",
   "metadata": {},
   "source": [
    "### Model"
   ]
  },
  {
   "cell_type": "code",
   "execution_count": 44,
   "id": "1fa9b918",
   "metadata": {},
   "outputs": [
    {
     "data": {
      "text/plain": [
       "<All keys matched successfully>"
      ]
     },
     "execution_count": 44,
     "metadata": {},
     "output_type": "execute_result"
    }
   ],
   "source": [
    "# Model\n",
    "print('==> Building model..')\n",
    "net = torchvision.models.alexnet(pretrained=False)\n",
    "net11 = torchvision.models.alexnet(pretrained=False)\n",
    "\n",
    "if device == 'cuda':\n",
    "    net = torch.nn.DataParallel(net)\n",
    "    net11 = torch.nn.DataParallel(net11)\n",
    "    cudnn.benchmark = True\n",
    "\n",
    "# Use the pretrained model from Pytorch\n",
    "oor = torch.load('alexnet-owt-7be5be79.pth')\n",
    "# 'Net'  is the new model to learn new classes\n",
    "net.load_state_dict(oor)\n",
    "# 'Net11' is the old model to learn old classes\n",
    "net11.load_state_dict(oor)"
   ]
  },
  {
   "cell_type": "code",
   "execution_count": 50,
   "id": "a600033b",
   "metadata": {},
   "outputs": [],
   "source": [
    "num_new_class = 1\n",
    "# Old number of input/output channel of the last FC layer in old model\n",
    "in_features = net.classifier[6].in_features\n",
    "out_features = net.classifier[6].out_features\n",
    "# Old weight/bias of the last FC layer\n",
    "weight = net.classifier[6].weight.data\n",
    "bias = net.classifier[6].bias.data\n",
    "# New number of output channel of the last FC layer in new model\n",
    "new_out_features = num_new_class+out_features\n",
    "# Creat a new FC layer and initial it's weight/bias\n",
    "new_fc = nn.Linear(in_features, new_out_features)\n",
    "kaiming_normal_init(new_fc.weight)\n",
    "new_fc.weight.data[:out_features] = weight\n",
    "new_fc.bias.data[:out_features] = bias\n",
    "# Replace the old FC layer\n",
    "net.classifier[6] = new_fc\n",
    "# CUDA\n",
    "net = net.to(device)\n",
    "net11 = net11.to(device)"
   ]
  },
  {
   "cell_type": "markdown",
   "id": "3ce775f7",
   "metadata": {},
   "source": [
    "### Train fonksiyonu"
   ]
  },
  {
   "cell_type": "code",
   "execution_count": 148,
   "id": "ad02e19c",
   "metadata": {},
   "outputs": [],
   "source": [
    "T=2\n",
    "criterion = nn.CrossEntropyLoss()\n",
    "# Used to balance the new class loss1 and the old class loss2\n",
    "# Loss1 is the cross entropy between output of the new task and label\n",
    "# Loss2 is the cross entropy between output of the old task and output of the old model\n",
    "# It should be noticed that before calculating loss2, the output of each model should- \n",
    "# -be handled by the new softmax \n",
    "alpha = 0.01\n",
    "optimizer = optim.SGD(filter(lambda p: p.requires_grad, net.parameters()), lr=0.01,\n",
    "        momentum=0.9, weight_decay=5e-4)\n",
    "def train(epoch):\n",
    "    print('\\nEpoch: %d' % epoch)\n",
    "    net.eval()\n",
    "    train_loss = 0\n",
    "    correct = 0\n",
    "    total = 0\n",
    "    for batch_idx, (inputs, targets) in enumerate(train_dataloader):\n",
    "        inputs, targets = inputs.to(device), targets.to(device)\n",
    "        targets += out_features\n",
    "        targets = targets.to(torch.float)\n",
    "        optimizer.zero_grad()\n",
    "        outputs = net(inputs)\n",
    "        outputs_ = torch.argmax(outputs, dim=1)\n",
    "        outputs_ = outputs_.to(torch.float)\n",
    "        soft_target = net11(inputs)\n",
    "        # Cross entropy between output of the new task and label\n",
    "        loss1 = criterion(outputs_,targets)\n",
    "        # Using the new softmax to handle outputs\n",
    "        outputs_S = F.softmax(outputs[:,:out_features]/T,dim=1)\n",
    "        outputs_T = F.softmax(soft_target[:,:out_features]/T,dim=1)\n",
    "        # Cross entropy between output of the old task and output of the old model\n",
    "        loss2 = outputs_T.mul(-1*torch.log(outputs_S))\n",
    "        loss2 = loss2.sum(1)\n",
    "        loss2 = loss2.mean()*T*T\n",
    "        loss = loss1*alpha+loss2*(1-alpha)\n",
    "        loss.backward(retain_graph=True)\n",
    "        optimizer.step()\n",
    "\n",
    "        train_loss += loss.item()\n",
    "        _, predicted = outputs.max(1)\n",
    "        total += targets.size(0)\n",
    "        correct += predicted.eq(targets).sum().item()\n",
    "\n",
    "        print('Loss: %.3f | Acc: %.3f%% (%d/%d)' % (train_loss / (batch_idx + 1), 100. * correct / total, correct, total))\n",
    "\n",
    "\n",
    "    return train_loss/(batch_idx+1)"
   ]
  },
  {
   "cell_type": "markdown",
   "id": "842b2e7c",
   "metadata": {},
   "source": [
    "### Test fonksiyonu"
   ]
  },
  {
   "cell_type": "code",
   "execution_count": 159,
   "id": "49707d1e",
   "metadata": {},
   "outputs": [],
   "source": [
    "def test(epoch):\n",
    "    global best_acc\n",
    "    net.eval()\n",
    "    test_loss = 0\n",
    "    correct = 0\n",
    "    total = 0\n",
    "    with torch.no_grad():\n",
    "        for batch_idx, (inputs, targets) in enumerate(test_dataloader):\n",
    "            inputs, targets = inputs.to(device), targets.to(device)\n",
    "            targets += out_features\n",
    "            targets = targets.to(torch.float)\n",
    "            outputs = net(inputs)\n",
    "            outputs_ = torch.argmax(outputs, dim=1)\n",
    "            outputs_ = outputs_.to(torch.float)\n",
    "            soft_target = net11(inputs)\n",
    "            loss1 = criterion(outputs_,targets)\n",
    "            loss = loss1\n",
    "            outputs_S = F.softmax(outputs[:,:out_features]/T,dim=1)\n",
    "            outputs_T = F.softmax(soft_target[:,:out_features]/T,dim=1)\n",
    "            loss2 = outputs_T.mul(-1*torch.log(outputs_S))\n",
    "            loss2 = loss2.sum(1)\n",
    "            loss2 = loss2.mean()*T*T\n",
    "            loss = loss1*alpha+loss2*(1-alpha)\n",
    "\n",
    "            test_loss += loss.item()\n",
    "            _, predicted = outputs.max(1)\n",
    "            total += targets.size(0)\n",
    "            correct += predicted.eq(targets).sum().item()\n",
    "            print('Loss: %.3f | Acc: %.3f%% (%d/%d)' % (train_loss / (batch_idx + 1), 100. * correct / total, correct, total))\n",
    "\n",
    "    # Save checkpoint.\n",
    "    acc = 100.*correct/total\n",
    "    if acc > best_acc:\n",
    "        print('Saving..')\n",
    "        state = {\n",
    "            'net': net.state_dict(),\n",
    "            'acc': acc,\n",
    "            'epoch': epoch,\n",
    "        }\n",
    "        if not os.path.isdir('checkpoint'):\n",
    "            os.mkdir('checkpoint')\n",
    "        torch.save(state, './checkpoint/ckpt.pth')\n",
    "        best_acc = acc\n",
    "    return acc"
   ]
  },
  {
   "cell_type": "markdown",
   "id": "1d337d7c",
   "metadata": {},
   "source": [
    "### Eğitim"
   ]
  },
  {
   "cell_type": "code",
   "execution_count": 162,
   "id": "ae67380e",
   "metadata": {},
   "outputs": [
    {
     "data": {
      "image/png": "[encoded data removed]",
      "text/plain": [
       "<Figure size 640x480 with 1 Axes>"
      ]
     },
     "metadata": {},
     "output_type": "display_data"
    },
    {
     "data": {
      "image/png": "[encoded data removed]",
      "text/plain": [
       "<Figure size 640x480 with 1 Axes>"
      ]
     },
     "metadata": {},
     "output_type": "display_data"
    }
   ],
   "source": [
    "epochs = []\n",
    "test_new_accs = []\n",
    "test_old_accs = []\n",
    "train_losses = []\n",
    "layer_num = [0,3,7,10,14,17,20,24,27,30,34,37,40]\n",
    "ct = 0\n",
    "\n",
    "# Ensure that the old model don't train\n",
    "for param in net11.parameters():\n",
    "    param.requires_grad = False\n",
    "\n",
    "optimizer = optim.SGD(filter(lambda p: p.requires_grad, net.parameters()), lr=0.01,\n",
    "        momentum=0.9, weight_decay=5e-4)\n",
    "\n",
    "for epoch in range(start_epoch, start_epoch+2):\n",
    "    train_loss = train(epoch)\n",
    "    acc_new = test(epoch)\n",
    "    test_new_accs.append(acc_new)\n",
    "    train_losses.append(train_loss)\n",
    "    epochs.append(epoch)\n",
    "## Save the final model\n",
    "# torch.save(net.state_dict(), 'temp.pkl')\n",
    "\n",
    "# Picture of the new class test accuracy changing with training\n",
    "plt.figure()\n",
    "plt.plot(epochs,test_new_accs)\n",
    "plt.xlabel(\"epochs\")\n",
    "plt.ylabel(\"accuracy\")\n",
    "plt.title('new class test accuracy')\n",
    "plt.savefig('./acc_new_class.jpg')\n",
    "\n",
    "# Picture of the old class test accuracy changing with trainin\n",
    "\n",
    "# Picture of the training loss changing with training\n",
    "plt.figure()\n",
    "plt.plot(epochs,train_losses)\n",
    "plt.xlabel('epochs')\n",
    "plt.ylabel('loss')\n",
    "plt.title('train loss')       \n",
    "plt.savefig('./train_loss.jpg')"
   ]
  },
  {
   "cell_type": "code",
   "execution_count": 161,
   "id": "b176656e",
   "metadata": {},
   "outputs": [
    {
     "data": {
      "text/plain": [
       "0.0"
      ]
     },
     "execution_count": 161,
     "metadata": {},
     "output_type": "execute_result"
    }
   ],
   "source": [
    "test(1)"
   ]
  },
  {
   "cell_type": "code",
   "execution_count": null,
   "id": "86dfdcc7",
   "metadata": {},
   "outputs": [],
   "source": []
  }
 ],
 "metadata": {
  "kernelspec": {
   "display_name": "Python 3 (ipykernel)",
   "language": "python",
   "name": "python3"
  },
  "language_info": {
   "codemirror_mode": {
    "name": "ipython",
    "version": 3
   },
   "file_extension": ".py",
   "mimetype": "text/x-python",
   "name": "python",
   "nbconvert_exporter": "python",
   "pygments_lexer": "ipython3",
   "version": "3.10.9"
  }
 },
 "nbformat": 4,
 "nbformat_minor": 5
}
